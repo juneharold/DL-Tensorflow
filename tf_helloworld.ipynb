{
  "nbformat": 4,
  "nbformat_minor": 0,
  "metadata": {
    "colab": {
      "name": "tf_helloworld.ipynb",
      "provenance": [],
      "collapsed_sections": [],
      "authorship_tag": "ABX9TyO8l8+yUWvp6Y7SLpgJE/xQ"
    },
    "kernelspec": {
      "name": "python3",
      "display_name": "Python 3"
    },
    "language_info": {
      "name": "python"
    }
  },
  "cells": [
    {
      "cell_type": "code",
      "metadata": {
        "id": "uD__OKfZtCy1"
      },
      "source": [
        "import tensorflow as tf"
      ],
      "execution_count": 13,
      "outputs": []
    },
    {
      "cell_type": "code",
      "metadata": {
        "id": "yIuecqvQtKs1"
      },
      "source": [
        "a=tf.constant([2], name='constant_a')\n",
        "b=tf.constant([3], name='constant_b')"
      ],
      "execution_count": 14,
      "outputs": []
    },
    {
      "cell_type": "code",
      "metadata": {
        "id": "JTlI1Rb3ukFo",
        "colab": {
          "base_uri": "https://localhost:8080/"
        },
        "outputId": "215e81f9-2055-4c3a-cf7d-76ab234d7c37"
      },
      "source": [
        "a"
      ],
      "execution_count": 15,
      "outputs": [
        {
          "output_type": "execute_result",
          "data": {
            "text/plain": [
              "<tf.Tensor: shape=(1,), dtype=int32, numpy=array([2], dtype=int32)>"
            ]
          },
          "metadata": {},
          "execution_count": 15
        }
      ]
    },
    {
      "cell_type": "code",
      "metadata": {
        "colab": {
          "base_uri": "https://localhost:8080/"
        },
        "id": "01CgBmgowKK9",
        "outputId": "05578d3b-ae81-4e2b-ed4c-e58f2968f425"
      },
      "source": [
        "tf.print(a.numpy()[0])"
      ],
      "execution_count": 16,
      "outputs": [
        {
          "output_type": "stream",
          "name": "stdout",
          "text": [
            "2\n"
          ]
        }
      ]
    },
    {
      "cell_type": "code",
      "metadata": {
        "id": "VDvj7zPQwRwH"
      },
      "source": [
        "@tf.function\n",
        "\n",
        "def add(a, b):\n",
        "  c=tf.add(a, b)\n",
        "  print(c)\n",
        "  return c"
      ],
      "execution_count": 17,
      "outputs": []
    },
    {
      "cell_type": "code",
      "metadata": {
        "colab": {
          "base_uri": "https://localhost:8080/"
        },
        "id": "noiDb75cw4GX",
        "outputId": "cd1462f3-0c4e-4992-d4bb-fdc48156baaf"
      },
      "source": [
        "result=add(a, b)\n",
        "tf.print(result[0])"
      ],
      "execution_count": 18,
      "outputs": [
        {
          "output_type": "stream",
          "name": "stdout",
          "text": [
            "Tensor(\"Add:0\", shape=(1,), dtype=int32)\n",
            "5\n"
          ]
        }
      ]
    },
    {
      "cell_type": "code",
      "metadata": {
        "colab": {
          "base_uri": "https://localhost:8080/"
        },
        "id": "H7Gmou4Sw-7p",
        "outputId": "099db598-5afc-44b8-9b96-3b77079387cc"
      },
      "source": [
        "Scalar = tf.constant(2)\n",
        "Vector = tf.constant([5,6,2])\n",
        "Matrix = tf.constant([[1,2,3],[2,3,4],[3,4,5]])\n",
        "Tensor = tf.constant( [ [[1,2,3],[2,3,4],[3,4,5]] , [[4,5,6],[5,6,7],[6,7,8]] , [[7,8,9],[8,9,10],[9,10,11]] ] )\n",
        "\n",
        "print (\"Scalar (1 entry):\\n %s \\n\" % Scalar)\n",
        "\n",
        "print (\"Vector (3 entries) :\\n %s \\n\" % Vector)\n",
        "\n",
        "print (\"Matrix (3x3 entries):\\n %s \\n\" % Matrix)\n",
        "\n",
        "print (\"Tensor (3x3x3 entries) :\\n %s \\n\" % Tensor)"
      ],
      "execution_count": 19,
      "outputs": [
        {
          "output_type": "stream",
          "name": "stdout",
          "text": [
            "Scalar (1 entry):\n",
            " tf.Tensor(2, shape=(), dtype=int32) \n",
            "\n",
            "Vector (3 entries) :\n",
            " tf.Tensor([5 6 2], shape=(3,), dtype=int32) \n",
            "\n",
            "Matrix (3x3 entries):\n",
            " tf.Tensor(\n",
            "[[1 2 3]\n",
            " [2 3 4]\n",
            " [3 4 5]], shape=(3, 3), dtype=int32) \n",
            "\n",
            "Tensor (3x3x3 entries) :\n",
            " tf.Tensor(\n",
            "[[[ 1  2  3]\n",
            "  [ 2  3  4]\n",
            "  [ 3  4  5]]\n",
            "\n",
            " [[ 4  5  6]\n",
            "  [ 5  6  7]\n",
            "  [ 6  7  8]]\n",
            "\n",
            " [[ 7  8  9]\n",
            "  [ 8  9 10]\n",
            "  [ 9 10 11]]], shape=(3, 3, 3), dtype=int32) \n",
            "\n"
          ]
        }
      ]
    }
  ]
}