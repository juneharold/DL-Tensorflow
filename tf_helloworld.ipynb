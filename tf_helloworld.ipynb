{
  "nbformat": 4,
  "nbformat_minor": 0,
  "metadata": {
    "colab": {
      "name": "tf_helloworld.ipynb",
      "provenance": [],
      "collapsed_sections": [],
      "authorship_tag": "ABX9TyPlaPAHRHWnw7l+xuBrNvdb"
    },
    "kernelspec": {
      "name": "python3",
      "display_name": "Python 3"
    },
    "language_info": {
      "name": "python"
    }
  },
  "cells": [
    {
      "cell_type": "code",
      "metadata": {
        "id": "uD__OKfZtCy1"
      },
      "source": [
        "import tensorflow as tf"
      ],
      "execution_count": null,
      "outputs": []
    },
    {
      "cell_type": "code",
      "metadata": {
        "id": "yIuecqvQtKs1"
      },
      "source": [
        "a=tf.constant([2], name='constant_a')\n",
        "b=tf.constant([3], name='constant_b')"
      ],
      "execution_count": null,
      "outputs": []
    },
    {
      "cell_type": "code",
      "metadata": {
        "id": "JTlI1Rb3ukFo",
        "colab": {
          "base_uri": "https://localhost:8080/"
        },
        "outputId": "d9bcf395-f80d-4114-ae20-9a6ba35a38cd"
      },
      "source": [
        "a"
      ],
      "execution_count": 3,
      "outputs": [
        {
          "output_type": "execute_result",
          "data": {
            "text/plain": [
              "<tf.Tensor: shape=(1,), dtype=int32, numpy=array([2], dtype=int32)>"
            ]
          },
          "metadata": {},
          "execution_count": 3
        }
      ]
    },
    {
      "cell_type": "code",
      "metadata": {
        "colab": {
          "base_uri": "https://localhost:8080/"
        },
        "id": "01CgBmgowKK9",
        "outputId": "ac87730d-4859-4b54-8e2e-ab306e878f42"
      },
      "source": [
        "tf.print(a.numpy()[0])"
      ],
      "execution_count": 4,
      "outputs": [
        {
          "output_type": "stream",
          "name": "stdout",
          "text": [
            "2\n"
          ]
        }
      ]
    },
    {
      "cell_type": "code",
      "metadata": {
        "id": "VDvj7zPQwRwH"
      },
      "source": [
        "@tf.function\n",
        "\n",
        "def add(a, b):\n",
        "  c=tf.add(a, b)\n",
        "  print(c)\n",
        "  return c"
      ],
      "execution_count": 6,
      "outputs": []
    },
    {
      "cell_type": "code",
      "metadata": {
        "colab": {
          "base_uri": "https://localhost:8080/"
        },
        "id": "noiDb75cw4GX",
        "outputId": "a265d631-446a-42b7-cfd1-832ad4bf2ea6"
      },
      "source": [
        "result=add(a, b)\n",
        "tf.print(result[0])"
      ],
      "execution_count": 12,
      "outputs": [
        {
          "output_type": "stream",
          "name": "stdout",
          "text": [
            "5\n"
          ]
        }
      ]
    },
    {
      "cell_type": "code",
      "metadata": {
        "id": "H7Gmou4Sw-7p"
      },
      "source": [
        ""
      ],
      "execution_count": null,
      "outputs": []
    }
  ]
}